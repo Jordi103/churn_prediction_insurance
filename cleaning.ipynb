{
 "cells": [
  {
   "cell_type": "code",
   "execution_count": 22,
   "id": "58d3d9b7-e7c7-4017-9556-8bc57b90ba0d",
   "metadata": {},
   "outputs": [],
   "source": [
    "import numpy as np\n",
    "import pandas as pd"
   ]
  },
  {
   "cell_type": "markdown",
   "id": "07bd0f86-145c-470f-9991-ea279f149381",
   "metadata": {},
   "source": [
    "### Load data"
   ]
  },
  {
   "cell_type": "code",
   "execution_count": 23,
   "id": "980f46f6-3214-4303-811f-88a95e1f2607",
   "metadata": {},
   "outputs": [
    {
     "name": "stdout",
     "output_type": "stream",
     "text": [
      "<class 'pandas.core.frame.DataFrame'>\n",
      "RangeIndex: 1048575 entries, 0 to 1048574\n",
      "Data columns (total 22 columns):\n",
      " #   Column               Non-Null Count    Dtype  \n",
      "---  ------               --------------    -----  \n",
      " 0   individual_id        1048575 non-null  float64\n",
      " 1   address_id           1048575 non-null  float64\n",
      " 2   curr_ann_amt         1048575 non-null  float64\n",
      " 3   days_tenure          1048575 non-null  float64\n",
      " 4   cust_orig_date       1048575 non-null  object \n",
      " 5   age_in_years         1048575 non-null  int64  \n",
      " 6   date_of_birth        1048575 non-null  object \n",
      " 7   latitude             890412 non-null   float64\n",
      " 8   longitude            890412 non-null   float64\n",
      " 9   city                 1041065 non-null  object \n",
      " 10  state                1048575 non-null  object \n",
      " 11  county               1041065 non-null  object \n",
      " 12  income               1048575 non-null  float64\n",
      " 13  has_children         1048575 non-null  float64\n",
      " 14  length_of_residence  1048575 non-null  float64\n",
      " 15  marital_status       1048575 non-null  object \n",
      " 16  home_market_value    991146 non-null   object \n",
      " 17  home_owner           1048575 non-null  float64\n",
      " 18  college_degree       1048575 non-null  float64\n",
      " 19  good_credit          1048575 non-null  float64\n",
      " 20  acct_suspd_date      120889 non-null   object \n",
      " 21  Churn                1048575 non-null  int64  \n",
      "dtypes: float64(12), int64(2), object(8)\n",
      "memory usage: 176.0+ MB\n"
     ]
    }
   ],
   "source": [
    "data = pd.read_csv(\"../data/autoinsurance_churn.csv\")\n",
    "data.info()"
   ]
  },
  {
   "cell_type": "markdown",
   "id": "10ec7fc1-8e21-4083-addf-f8af0fa4472e",
   "metadata": {},
   "source": [
    "### Remove variables"
   ]
  },
  {
   "cell_type": "code",
   "execution_count": 24,
   "id": "4ffb1403-c390-4335-9d1c-6e8fbe94ffec",
   "metadata": {},
   "outputs": [],
   "source": [
    "to_remove = [\"individual_id\", \"address_id\", \"latitude\", \"longitude\", \"acct_suspd_date\", \"state\"]\n",
    "data.drop(to_remove, axis=1, inplace=True)"
   ]
  },
  {
   "cell_type": "markdown",
   "id": "366e58cc-3c9e-40b4-b5c7-4f3a41285acd",
   "metadata": {},
   "source": [
    "### Impute values"
   ]
  },
  {
   "cell_type": "code",
   "execution_count": 25,
   "id": "2b313b8b-45d6-44d9-982a-e1b837b1796a",
   "metadata": {},
   "outputs": [
    {
     "name": "stdout",
     "output_type": "stream",
     "text": [
      "124863.25444627232\n"
     ]
    }
   ],
   "source": [
    "def convert_home_market_value(x):\n",
    "        if x is np.nan:\n",
    "            return 0\n",
    "        if x == \"1000000 Plus\":\n",
    "            return 1000000.0\n",
    "        x = x.split(\" - \")\n",
    "        return np.mean(list(map(float, x)))\n",
    "\n",
    "home_market_value_mean = data[\"home_market_value\"].apply(convert_home_market_value).mean()\n",
    "print(home_market_value_mean)"
   ]
  },
  {
   "cell_type": "code",
   "execution_count": 26,
   "id": "22bbb5dc-4cad-4c3b-b882-6de6df78f52c",
   "metadata": {},
   "outputs": [],
   "source": [
    "data[\"home_market_value\"] = data[\"home_market_value\"].fillna(\"100000 - 124999\")"
   ]
  },
  {
   "cell_type": "markdown",
   "id": "1df10206-0dec-40c3-93cb-fccf7148224f",
   "metadata": {},
   "source": [
    "### Remove registers"
   ]
  },
  {
   "cell_type": "code",
   "execution_count": 27,
   "id": "552aa075-32de-4b3b-a237-53cf0678262c",
   "metadata": {},
   "outputs": [],
   "source": [
    "data.dropna(inplace=True)"
   ]
  },
  {
   "cell_type": "markdown",
   "id": "f69e998a-6fa6-4703-bea6-2d41897c9d79",
   "metadata": {},
   "source": [
    "### Save data"
   ]
  },
  {
   "cell_type": "code",
   "execution_count": 28,
   "id": "fc85ab56-fc7d-4c2a-b379-444d27c0dd1b",
   "metadata": {},
   "outputs": [],
   "source": [
    "data.to_csv(\"../data/autoinsurance_churn_clean.csv\", index=False)"
   ]
  },
  {
   "cell_type": "code",
   "execution_count": null,
   "id": "84bbd2d4-bc54-4a5b-8b70-6700b3d28b6e",
   "metadata": {},
   "outputs": [],
   "source": []
  }
 ],
 "metadata": {
  "kernelspec": {
   "display_name": "Python 3 (ipykernel)",
   "language": "python",
   "name": "python3"
  },
  "language_info": {
   "codemirror_mode": {
    "name": "ipython",
    "version": 3
   },
   "file_extension": ".py",
   "mimetype": "text/x-python",
   "name": "python",
   "nbconvert_exporter": "python",
   "pygments_lexer": "ipython3",
   "version": "3.10.12"
  }
 },
 "nbformat": 4,
 "nbformat_minor": 5
}
