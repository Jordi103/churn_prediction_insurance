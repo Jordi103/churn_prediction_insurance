{
 "cells": [
  {
   "cell_type": "code",
   "execution_count": 1,
   "id": "1d4c698a-3f40-4917-bf15-546d4dcf426f",
   "metadata": {},
   "outputs": [
    {
     "name": "stderr",
     "output_type": "stream",
     "text": [
      "2025-03-22 12:09:31.067766: I tensorflow/core/platform/cpu_feature_guard.cc:193] This TensorFlow binary is optimized with oneAPI Deep Neural Network Library (oneDNN) to use the following CPU instructions in performance-critical operations:  AVX2 FMA\n",
      "To enable them in other operations, rebuild TensorFlow with the appropriate compiler flags.\n",
      "2025-03-22 12:09:39.183854: W tensorflow/compiler/xla/stream_executor/platform/default/dso_loader.cc:64] Could not load dynamic library 'libcudart.so.11.0'; dlerror: libcudart.so.11.0: cannot open shared object file: No such file or directory\n",
      "2025-03-22 12:09:39.183910: I tensorflow/compiler/xla/stream_executor/cuda/cudart_stub.cc:29] Ignore above cudart dlerror if you do not have a GPU set up on your machine.\n",
      "2025-03-22 12:09:52.710492: W tensorflow/compiler/xla/stream_executor/platform/default/dso_loader.cc:64] Could not load dynamic library 'libnvinfer.so.7'; dlerror: libnvinfer.so.7: cannot open shared object file: No such file or directory\n",
      "2025-03-22 12:09:52.710981: W tensorflow/compiler/xla/stream_executor/platform/default/dso_loader.cc:64] Could not load dynamic library 'libnvinfer_plugin.so.7'; dlerror: libnvinfer_plugin.so.7: cannot open shared object file: No such file or directory\n",
      "2025-03-22 12:09:52.711001: W tensorflow/compiler/tf2tensorrt/utils/py_utils.cc:38] TF-TRT Warning: Cannot dlopen some TensorRT libraries. If you would like to use Nvidia GPU with TensorRT, please make sure the missing libraries mentioned above are installed properly.\n"
     ]
    }
   ],
   "source": [
    "import numpy as np\n",
    "from sklearn.ensemble import RandomForestClassifier\n",
    "from sklearn import metrics, model_selection\n",
    "import keras_tuner"
   ]
  },
  {
   "cell_type": "markdown",
   "id": "7d5511b3-c141-4b82-85d4-f2294324c0f3",
   "metadata": {},
   "source": [
    "### Load the data"
   ]
  },
  {
   "cell_type": "code",
   "execution_count": 2,
   "id": "3bc8c540-2152-4978-ac38-9d1b4262b964",
   "metadata": {},
   "outputs": [],
   "source": [
    "# remove val data as stratified kfold is performed automatically\n",
    "X_train = np.load(\"data/X_train.npy\")\n",
    "y_train = np.load(\"data/y_train.npy\")\n",
    "X_test = np.load(\"data/X_test.npy\")\n",
    "y_test = np.load(\"data/y_test.npy\")"
   ]
  },
  {
   "cell_type": "code",
   "execution_count": 3,
   "id": "fd0e08d4-db82-4f4b-bd15-da0d360c16af",
   "metadata": {},
   "outputs": [],
   "source": [
    "X_train_SMOTE = np.load(\"data/X_train_SMOTE.npy\")\n",
    "y_train_SMOTE = np.load(\"data/y_train_SMOTE.npy\")\n",
    "X_test_SMOTE = np.load(\"data/X_test_SMOTE.npy\")\n",
    "y_test_SMOTE = np.load(\"data/y_test_SMOTE.npy\")"
   ]
  },
  {
   "cell_type": "markdown",
   "id": "47963986-4936-4cea-9e44-6dd6ce026a84",
   "metadata": {},
   "source": [
    "### Model training"
   ]
  },
  {
   "cell_type": "code",
   "execution_count": 5,
   "id": "97ea5637-bb69-4986-8716-2d396e025a7b",
   "metadata": {},
   "outputs": [],
   "source": [
    "def build_model(hp):\n",
    "    model = RandomForestClassifier(\n",
    "        n_estimators=hp.Choice(\"n_estimators\", [50, 100, 150]),\n",
    "        random_state=42,\n",
    "        min_samples_split=hp.Choice(\"min_samples_split\", [2, 5]),\n",
    "        min_samples_leaf=hp.Choice(\"min_samples_leaf\", [2, 5])\n",
    "        )\n",
    "    return model\n",
    "\n",
    "tuner = keras_tuner.tuners.SklearnTuner(\n",
    "    oracle=keras_tuner.oracles.BayesianOptimizationOracle(\n",
    "         objective=keras_tuner.Objective('score', 'max'),\n",
    "         max_trials=10),\n",
    "    hypermodel=build_model,\n",
    "    scoring=metrics.make_scorer(metrics.accuracy_score),\n",
    "    #cv=model_selection.StratifiedKFold(5),\n",
    "    directory='.',\n",
    "    project_name='random_forest_search'\n",
    ")\n",
    "    "
   ]
  },
  {
   "cell_type": "code",
   "execution_count": 6,
   "id": "26d4dfa2-b2a9-4dc7-a5b5-e51b49ebcedb",
   "metadata": {},
   "outputs": [
    {
     "ename": "TypeError",
     "evalue": "SklearnTuner.search() got an unexpected keyword argument 'validation_split'",
     "output_type": "error",
     "traceback": [
      "\u001b[0;31m---------------------------------------------------------------------------\u001b[0m",
      "\u001b[0;31mTypeError\u001b[0m                                 Traceback (most recent call last)",
      "\u001b[0;32m/tmp/ipykernel_2557/1573411694.py\u001b[0m in \u001b[0;36m<module>\u001b[0;34m\u001b[0m\n\u001b[0;32m----> 1\u001b[0;31m \u001b[0mtuner\u001b[0m\u001b[0;34m.\u001b[0m\u001b[0msearch\u001b[0m\u001b[0;34m(\u001b[0m\u001b[0mX_train\u001b[0m\u001b[0;34m,\u001b[0m \u001b[0my_train\u001b[0m\u001b[0;34m,\u001b[0m \u001b[0mvalidation_split\u001b[0m\u001b[0;34m=\u001b[0m\u001b[0;36m0.3\u001b[0m\u001b[0;34m)\u001b[0m\u001b[0;34m\u001b[0m\u001b[0;34m\u001b[0m\u001b[0m\n\u001b[0m",
      "\u001b[0;31mTypeError\u001b[0m: SklearnTuner.search() got an unexpected keyword argument 'validation_split'"
     ]
    }
   ],
   "source": [
    "tuner.search(X_train, y_train)"
   ]
  },
  {
   "cell_type": "code",
   "execution_count": null,
   "id": "40fbba2b-3521-4574-9acc-15e0ea658c56",
   "metadata": {},
   "outputs": [],
   "source": []
  }
 ],
 "metadata": {
  "kernelspec": {
   "display_name": "Python 3 (ipykernel)",
   "language": "python",
   "name": "python3"
  },
  "language_info": {
   "codemirror_mode": {
    "name": "ipython",
    "version": 3
   },
   "file_extension": ".py",
   "mimetype": "text/x-python",
   "name": "python",
   "nbconvert_exporter": "python",
   "pygments_lexer": "ipython3",
   "version": "3.10.12"
  }
 },
 "nbformat": 4,
 "nbformat_minor": 5
}
