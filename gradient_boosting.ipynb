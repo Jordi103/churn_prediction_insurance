{
 "cells": [
  {
   "cell_type": "code",
   "execution_count": 2,
   "id": "4802b148-d6f4-4bb1-94ed-73dc6272a405",
   "metadata": {},
   "outputs": [],
   "source": [
    "import numpy as np\n",
    "from sklearn.ensemble import GradientBoostingClassifier\n",
    "from sklearn import metrics, model_selection\n",
    "import keras_tuner"
   ]
  },
  {
   "cell_type": "markdown",
   "id": "247282ef-6662-4c3c-8832-da68eef73ac8",
   "metadata": {},
   "source": [
    "### Model training without SMOTE"
   ]
  },
  {
   "cell_type": "code",
   "execution_count": 3,
   "id": "7cef7c19-b5c3-4179-b1ff-f9d71d175f58",
   "metadata": {},
   "outputs": [],
   "source": [
    "def build_model(hp):\n",
    "    model = GradientBoostingClassifier(\n",
    "        n_estimators=hp.Choice(\"n_estimators\", [50, 100, 150]),\n",
    "        random_state=42,\n",
    "        learning_rate=hp.Choice(\"learning_rate\", [0.1, 0.2, 0.5]),\n",
    "        min_samples_split=hp.Choice(\"min_samples_split\", [2, 5]),\n",
    "        min_samples_leaf=hp.Choice(\"min_samples_leaf\", [2, 5])\n",
    "        )\n",
    "    return model"
   ]
  },
  {
   "cell_type": "code",
   "execution_count": 4,
   "id": "a2ed92f5-0368-469a-b211-7afc3c4930f8",
   "metadata": {},
   "outputs": [],
   "source": [
    "tuner = keras_tuner.tuners.SklearnTuner(\n",
    "    oracle=keras_tuner.oracles.BayesianOptimization(\n",
    "         objective=keras_tuner.Objective('score', 'max'),\n",
    "         max_trials=10),\n",
    "    hypermodel=build_model,\n",
    "    scoring=metrics.make_scorer(metrics.accuracy_score),\n",
    "    #cv=model_selection.StratifiedKFold(5),\n",
    "    directory='./models',\n",
    "    project_name='gradient_boosting_search'\n",
    ")"
   ]
  },
  {
   "cell_type": "code",
   "execution_count": null,
   "id": "bf457220-3a00-4f67-861e-66d5aced12c9",
   "metadata": {},
   "outputs": [],
   "source": [
    "tuner.search(X_train, y_train)"
   ]
  },
  {
   "cell_type": "markdown",
   "id": "562afea3-83de-40a9-9fb2-f4bc15cff6c8",
   "metadata": {},
   "source": [
    "### Model training with SMOTE"
   ]
  },
  {
   "cell_type": "code",
   "execution_count": 7,
   "id": "83ac9541-9996-4f17-8d97-f66dbe7373f9",
   "metadata": {},
   "outputs": [],
   "source": [
    "tuner = keras_tuner.tuners.SklearnTuner(\n",
    "    oracle=keras_tuner.oracles.BayesianOptimization(\n",
    "         objective=keras_tuner.Objective('score', 'max'),\n",
    "         max_trials=10),\n",
    "    hypermodel=build_model,\n",
    "    scoring=metrics.make_scorer(metrics.accuracy_score),\n",
    "    #cv=model_selection.StratifiedKFold(5),\n",
    "    directory='./models',\n",
    "    project_name='gradient_boosting_SMOTE_search'\n",
    ")"
   ]
  },
  {
   "cell_type": "code",
   "execution_count": null,
   "id": "07a2901e-7a8f-4a9b-b00e-f79d6e93cae2",
   "metadata": {},
   "outputs": [],
   "source": [
    "tuner.search(X_train_SMOTE, y_train_SMOTE)"
   ]
  }
 ],
 "metadata": {
  "kernelspec": {
   "display_name": "Python 3 (ipykernel)",
   "language": "python",
   "name": "python3"
  },
  "language_info": {
   "codemirror_mode": {
    "name": "ipython",
    "version": 3
   },
   "file_extension": ".py",
   "mimetype": "text/x-python",
   "name": "python",
   "nbconvert_exporter": "python",
   "pygments_lexer": "ipython3",
   "version": "3.10.12"
  }
 },
 "nbformat": 4,
 "nbformat_minor": 5
}
