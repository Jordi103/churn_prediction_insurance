{
 "cells": [
  {
   "cell_type": "code",
   "execution_count": 1,
   "id": "18e1a914-0c08-4c34-b867-b8264f3af080",
   "metadata": {},
   "outputs": [],
   "source": [
    "import numpy as np\n",
    "import pandas as pd"
   ]
  },
  {
   "cell_type": "markdown",
   "id": "57007550-491d-422d-9150-88230961df98",
   "metadata": {},
   "source": [
    "### Load the data"
   ]
  },
  {
   "cell_type": "code",
   "execution_count": 4,
   "id": "77e4829e-6007-4b31-993b-c9fe286740b3",
   "metadata": {},
   "outputs": [
    {
     "name": "stdout",
     "output_type": "stream",
     "text": [
      "<class 'pandas.core.frame.DataFrame'>\n",
      "RangeIndex: 1041065 entries, 0 to 1041064\n",
      "Data columns (total 16 columns):\n",
      " #   Column               Non-Null Count    Dtype  \n",
      "---  ------               --------------    -----  \n",
      " 0   curr_ann_amt         1041065 non-null  float64\n",
      " 1   days_tenure          1041065 non-null  float64\n",
      " 2   cust_orig_date       1041065 non-null  object \n",
      " 3   age_in_years         1041065 non-null  int64  \n",
      " 4   date_of_birth        1041065 non-null  object \n",
      " 5   city                 1041065 non-null  object \n",
      " 6   county               1041065 non-null  object \n",
      " 7   income               1041065 non-null  float64\n",
      " 8   has_children         1041065 non-null  float64\n",
      " 9   length_of_residence  1041065 non-null  float64\n",
      " 10  marital_status       1041065 non-null  object \n",
      " 11  home_market_value    1041065 non-null  object \n",
      " 12  home_owner           1041065 non-null  float64\n",
      " 13  college_degree       1041065 non-null  float64\n",
      " 14  good_credit          1041065 non-null  float64\n",
      " 15  Churn                1041065 non-null  int64  \n",
      "dtypes: float64(8), int64(2), object(6)\n",
      "memory usage: 127.1+ MB\n"
     ]
    }
   ],
   "source": [
    "data = pd.read_csv(\"../data/autoinsurance_churn_clean.csv\")\n",
    "data.info()"
   ]
  },
  {
   "cell_type": "code",
   "execution_count": 11,
   "id": "e31c0924-3dea-47fd-9e25-2419ac426cb8",
   "metadata": {},
   "outputs": [
    {
     "data": {
      "text/plain": [
       "(1041065, 15)"
      ]
     },
     "execution_count": 11,
     "metadata": {},
     "output_type": "execute_result"
    }
   ],
   "source": [
    "y = data[\"Churn\"]\n",
    "X = data[[x for x in data.columns if x != \"Churn\"]]\n",
    "X.shape"
   ]
  },
  {
   "cell_type": "markdown",
   "id": "64d965fc-4b64-4bbd-ba6d-616eb0332abe",
   "metadata": {},
   "source": [
    "### Encoding"
   ]
  },
  {
   "cell_type": "code",
   "execution_count": 8,
   "id": "c4bd3849-6021-48a4-bf6a-34634eaf70b0",
   "metadata": {},
   "outputs": [
    {
     "name": "stderr",
     "output_type": "stream",
     "text": [
      "/usr/lib/python3/dist-packages/scipy/__init__.py:146: UserWarning: A NumPy version >=1.17.3 and <1.25.0 is required for this version of SciPy (detected version 1.26.4\n",
      "  warnings.warn(f\"A NumPy version >={np_minversion} and <{np_maxversion}\"\n"
     ]
    }
   ],
   "source": [
    "from sklearn.preprocessing import OrdinalEncoder\n",
    "encoder = OrdinalEncoder()\n",
    "X_encoded = encoder.fit_transform(X)"
   ]
  },
  {
   "cell_type": "markdown",
   "id": "c18bc8a1-2aff-4272-8a51-f2a337218585",
   "metadata": {},
   "source": [
    "### Scaling"
   ]
  },
  {
   "cell_type": "code",
   "execution_count": 9,
   "id": "b14d773e-92d8-44e2-8964-359ca76fdfdc",
   "metadata": {},
   "outputs": [],
   "source": [
    "from sklearn.preprocessing import StandardScaler\n",
    "scaler = StandardScaler()\n",
    "X_scaled = scaler.fit_transform(X_encoded)"
   ]
  },
  {
   "cell_type": "markdown",
   "id": "9785fc85-3a0a-4f74-9527-88c0283e944e",
   "metadata": {},
   "source": [
    "### PCA"
   ]
  },
  {
   "cell_type": "code",
   "execution_count": 10,
   "id": "4423fa4a-9a25-48bb-94bd-1b9f96e55185",
   "metadata": {},
   "outputs": [
    {
     "data": {
      "text/plain": [
       "(1041065, 12)"
      ]
     },
     "execution_count": 10,
     "metadata": {},
     "output_type": "execute_result"
    }
   ],
   "source": [
    "from sklearn.decomposition import PCA\n",
    "pca = PCA(n_components=0.95)\n",
    "X_compressed = pca.fit_transform(X_scaled)\n",
    "X_compressed.shape"
   ]
  },
  {
   "cell_type": "markdown",
   "id": "ab615cae-3968-4b9f-b9e6-828937d0db51",
   "metadata": {},
   "source": [
    "### SMOTE"
   ]
  },
  {
   "cell_type": "code",
   "execution_count": 14,
   "id": "71cc7c69-6c40-4bb2-aa78-779c4a5f11c8",
   "metadata": {},
   "outputs": [
    {
     "data": {
      "text/plain": [
       "Churn\n",
       "0    921086\n",
       "1    921086\n",
       "Name: count, dtype: int64"
      ]
     },
     "execution_count": 14,
     "metadata": {},
     "output_type": "execute_result"
    }
   ],
   "source": [
    "from imblearn.over_sampling import SMOTE\n",
    "sm = SMOTE(random_state=42)\n",
    "X_res, y_res = sm.fit_resample(X_compressed, y)\n",
    "pd.Series(y_res).value_counts()"
   ]
  },
  {
   "cell_type": "markdown",
   "id": "124ab9a7-dbdc-478d-895f-9b4aa3469cf0",
   "metadata": {},
   "source": [
    "### Splitting"
   ]
  },
  {
   "cell_type": "code",
   "execution_count": 16,
   "id": "59261f0d-a332-4c4f-9038-85cef2782bf3",
   "metadata": {},
   "outputs": [],
   "source": [
    "from sklearn.model_selection import train_test_split\n",
    "X_train, X_val_test, y_train, y_val_test = train_test_split(X_compressed, y, random_state=42, train_size=0.5)\n",
    "X_val, X_test, y_val, y_test = train_test_split(X_val_test, y_val_test, random_state=42, train_size=0.5)"
   ]
  },
  {
   "cell_type": "code",
   "execution_count": 20,
   "id": "47926c1b-7e5f-475b-b192-718f4b0f9bb4",
   "metadata": {},
   "outputs": [],
   "source": [
    "X_train_SMOTE, X_val_test_SMOTE, y_train_SMOTE, y_val_test_SMOTE = train_test_split(X_res, y_res, \n",
    "                                                                                    random_state=42, \n",
    "                                                                                    train_size=0.5)\n",
    "\n",
    "X_val_SMOTE, X_test_SMOTE, y_val_SMOTE, y_test_SMOTE = train_test_split(X_val_test_SMOTE, y_val_test_SMOTE, \n",
    "                                                                         random_state=42, \n",
    "                                                                         train_size=0.5)"
   ]
  },
  {
   "cell_type": "markdown",
   "id": "888342a1-c58a-4bae-97b4-57a64f596a1f",
   "metadata": {},
   "source": [
    "### Save the data"
   ]
  },
  {
   "cell_type": "code",
   "execution_count": 19,
   "id": "6b31ef4b-8261-462d-9320-9d99daeda2a1",
   "metadata": {},
   "outputs": [
    {
     "data": {
      "text/plain": [
       "numpy.ndarray"
      ]
     },
     "execution_count": 19,
     "metadata": {},
     "output_type": "execute_result"
    }
   ],
   "source": [
    "type(X_train)"
   ]
  },
  {
   "cell_type": "code",
   "execution_count": 21,
   "id": "05ddb04d-356b-4cf5-9a5a-bc657be5a255",
   "metadata": {},
   "outputs": [],
   "source": [
    "regular_ndarrays = [X_train, y_train, X_val, y_val, X_test, y_test]\n",
    "regular_names = [\"X_train.npy\", \"y_train.npy\", \"X_val.npy\", \"y_val.npy\", \"X_test.npy\", \"y_test.npy\"]\n",
    "\n",
    "SMOTE_ndarrays = [X_train_SMOTE, y_train_SMOTE, X_val_SMOTE, y_val_SMOTE, X_test_SMOTE, y_test_SMOTE]\n",
    "SMOTE_names = [\"X_train_SMOTE.npy\", \"y_train_SMOTE.npy\", \"X_val_SMOTE.npy\", \"y_val_SMOTE.npy\",\n",
    "               \"X_test_SMOTE.npy\", \"y_test_SMOTE.npy\"]"
   ]
  },
  {
   "cell_type": "code",
   "execution_count": 23,
   "id": "e59ea158-2074-4716-a804-215b3f1761db",
   "metadata": {},
   "outputs": [],
   "source": [
    "for name, var in zip(regular_names, regular_ndarrays):\n",
    "    np.save(\"../data/\"+name, var)"
   ]
  },
  {
   "cell_type": "code",
   "execution_count": 24,
   "id": "d119a9ad-c003-4502-a831-946611980dd5",
   "metadata": {},
   "outputs": [],
   "source": [
    "for name, var in zip(SMOTE_names, SMOTE_ndarrays):\n",
    "    np.save(\"../data/\"+name, var)"
   ]
  },
  {
   "cell_type": "code",
   "execution_count": null,
   "id": "fc98cceb-1cd7-44a0-be14-2e01487681cc",
   "metadata": {},
   "outputs": [],
   "source": []
  }
 ],
 "metadata": {
  "kernelspec": {
   "display_name": "Python 3 (ipykernel)",
   "language": "python",
   "name": "python3"
  },
  "language_info": {
   "codemirror_mode": {
    "name": "ipython",
    "version": 3
   },
   "file_extension": ".py",
   "mimetype": "text/x-python",
   "name": "python",
   "nbconvert_exporter": "python",
   "pygments_lexer": "ipython3",
   "version": "3.10.12"
  }
 },
 "nbformat": 4,
 "nbformat_minor": 5
}
